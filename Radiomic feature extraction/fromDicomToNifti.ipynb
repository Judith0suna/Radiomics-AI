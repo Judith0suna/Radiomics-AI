{
 "cells": [
  {
   "cell_type": "code",
   "execution_count": 1,
   "metadata": {},
   "outputs": [
    {
     "name": "stdout",
     "output_type": "stream",
     "text": [
      "Processing C:/Users/jor14/Desktop/001\\002...\n"
     ]
    },
    {
     "name": "stderr",
     "output_type": "stream",
     "text": [
      "Loading through DICOM files:   0%|          | 0/1 [00:00<?, ?it/s]"
     ]
    },
    {
     "name": "stdout",
     "output_type": "stream",
     "text": [
      "Loading from C:/Users/jor14/Desktop/001\\002\n"
     ]
    },
    {
     "name": "stderr",
     "output_type": "stream",
     "text": [
      "Loading through DICOM files: 100%|██████████| 1/1 [00:00<00:00,  2.05it/s]\n"
     ]
    },
    {
     "name": "stdout",
     "output_type": "stream",
     "text": [
      "Compiling dictionaries together...\n",
      "Index 0, description None at C:/Users/jor14/Desktop/001\\002\n",
      "1 unique series IDs were found. Default is index 0, to change use set_index(index)\n",
      "Contour names or associations changed, resetting mask\n",
      "The following indexes have all ROIs present\n",
      "Index 0, located at C:/Users/jor14/Desktop/001\\002\n",
      "Finished listing present indexes\n",
      "Loading images for None at \n",
      " C:/Users/jor14/Desktop/001\\002\n",
      "\n",
      "Erasing any previous mask as we load a new new image set\n",
      "Saving images in C:/Users/jor14/Desktop/001_nii\\002\n",
      "Saved Image and Mask in C:/Users/jor14/Desktop/001_nii\\002\n",
      "Processing completed.\n"
     ]
    }
   ],
   "source": [
    "from DicomRTTool.ReaderWriter import DicomReaderWriter\n",
    "import os\n",
    "import SimpleITK as sitk\n",
    "\n",
    "# Main directory containing DICOM data\n",
    "main_directory = \"C:/Users/jor14/Desktop/Not_treatment_worked\"\n",
    "output_directory = \"C:/Users/jor14/Desktop/Not_treatment_worked_nii\"\n",
    "\n",
    "# Instantiate the DicomReaderWriter\n",
    "Dicom_reader = DicomReaderWriter(description='Images', arg_max=True)\n",
    "\n",
    "# Iterate through each sub-directory in the main directory\n",
    "for subdir, dirs, files in os.walk(main_directory):\n",
    "    for dir in dirs:\n",
    "        current_path = os.path.join(subdir, dir)\n",
    "        print(f\"Processing {current_path}...\")\n",
    "\n",
    "        # Process DICOM data\n",
    "        Dicom_reader.walk_through_folders(current_path)\n",
    "        all_rois = Dicom_reader.return_rois(print_rois=False)\n",
    "        Dicom_reader.set_contour_names_and_associations(contour_names=['z_lungs'])  # Check to see which indexes have all of the rois we want\n",
    "\n",
    "        indexes = Dicom_reader.which_indexes_have_all_rois()  # Check to see which indexes have all of the rois we want, now we can see indexes\n",
    "\n",
    "\n",
    "        if indexes:\n",
    "            pt_indx = indexes[-1]  # Assuming you want to process the last index with all ROIs\n",
    "            Dicom_reader.set_index(pt_indx)\n",
    "            Dicom_reader.get_images_and_mask()\n",
    "\n",
    "            # Prepare output subdirectory\n",
    "            subfolder_name = os.path.basename(current_path)\n",
    "            output_subdir = os.path.join(output_directory, subfolder_name)\n",
    "            print(f\"Saving images in {output_subdir}\")\n",
    "            if not os.path.exists(output_subdir):\n",
    "                os.makedirs(output_subdir)\n",
    "\n",
    "            image = Dicom_reader.ArrayDicom # image array\n",
    "            mask = Dicom_reader.mask # mask array\n",
    "            dicom_sitk_handle = Dicom_reader.dicom_handle # SimpleITK image handle\n",
    "            mask_sitk_handle = Dicom_reader.annotation_handle # SimpleITK mask handle\n",
    "\n",
    "            \n",
    "            # Save the NIfTI images and masks\n",
    "            sitk.WriteImage(dicom_sitk_handle, os.path.join(output_subdir, 'Image.nii'))\n",
    "            sitk.WriteImage(mask_sitk_handle, os.path.join(output_subdir, 'Mask.nii'))\n",
    "                       \n",
    "            print(f\"Saved Image and Mask in {output_subdir}\")\n",
    "        else:\n",
    "            print(f\"No suitable indexes found in {current_path}. Skipping...\")\n",
    "\n",
    "print(\"Processing completed.\")"
   ]
  }
 ],
 "metadata": {
  "kernelspec": {
   "display_name": "base",
   "language": "python",
   "name": "python3"
  },
  "language_info": {
   "codemirror_mode": {
    "name": "ipython",
    "version": 3
   },
   "file_extension": ".py",
   "mimetype": "text/x-python",
   "name": "python",
   "nbconvert_exporter": "python",
   "pygments_lexer": "ipython3",
   "version": "3.12.4"
  }
 },
 "nbformat": 4,
 "nbformat_minor": 2
}
