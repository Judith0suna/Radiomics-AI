{
 "cells": [
  {
   "cell_type": "code",
   "execution_count": null,
   "id": "5911b79c",
   "metadata": {},
   "outputs": [],
   "source": [
    "conda create -n entorno_judith python=3.9"
   ]
  },
  {
   "cell_type": "code",
   "execution_count": 6,
   "id": "ebbe92ec",
   "metadata": {},
   "outputs": [
    {
     "name": "stdout",
     "output_type": "stream",
     "text": [
      "Requirement already satisfied: pip in c:\\users\\jor14\\anaconda3\\lib\\site-packages (23.2.1)Note: you may need to restart the kernel to use updated packages.\n",
      "\n",
      "Collecting pip\n",
      "  Obtaining dependency information for pip from https://files.pythonhosted.org/packages/15/aa/3f4c7bcee2057a76562a5b33ecbd199be08cdb4443a02e26bd2c3cf6fc39/pip-23.3.2-py3-none-any.whl.metadata\n",
      "  Downloading pip-23.3.2-py3-none-any.whl.metadata (3.5 kB)\n",
      "Downloading pip-23.3.2-py3-none-any.whl (2.1 MB)\n",
      "   ---------------------------------------- 0.0/2.1 MB ? eta -:--:--\n",
      "   ---------------------------------------- 0.0/2.1 MB ? eta -:--:--\n",
      "    --------------------------------------- 0.0/2.1 MB 487.6 kB/s eta 0:00:05\n",
      "   --- ------------------------------------ 0.2/2.1 MB 1.5 MB/s eta 0:00:02\n",
      "   ---- ----------------------------------- 0.2/2.1 MB 1.5 MB/s eta 0:00:02\n",
      "   ----- ---------------------------------- 0.3/2.1 MB 1.7 MB/s eta 0:00:02\n",
      "   --------- ------------------------------ 0.5/2.1 MB 1.9 MB/s eta 0:00:01\n",
      "   ----------- ---------------------------- 0.6/2.1 MB 2.0 MB/s eta 0:00:01\n",
      "   ------------- -------------------------- 0.7/2.1 MB 2.1 MB/s eta 0:00:01\n",
      "   ---------------- ----------------------- 0.9/2.1 MB 2.3 MB/s eta 0:00:01\n",
      "   ------------------- -------------------- 1.0/2.1 MB 2.4 MB/s eta 0:00:01\n",
      "   ---------------------- ----------------- 1.2/2.1 MB 2.5 MB/s eta 0:00:01\n",
      "   ------------------------- -------------- 1.4/2.1 MB 2.6 MB/s eta 0:00:01\n",
      "   ----------------------------- ---------- 1.5/2.1 MB 2.6 MB/s eta 0:00:01\n",
      "   -------------------------------- ------- 1.7/2.1 MB 2.7 MB/s eta 0:00:01\n",
      "   ----------------------------------- ---- 1.9/2.1 MB 2.8 MB/s eta 0:00:01\n",
      "   ---------------------------------------  2.1/2.1 MB 2.9 MB/s eta 0:00:01\n",
      "   ---------------------------------------- 2.1/2.1 MB 2.9 MB/s eta 0:00:00\n",
      "Installing collected packages: pip\n",
      "  Attempting uninstall: pip\n",
      "    Found existing installation: pip 23.2.1\n",
      "    Uninstalling pip-23.2.1:\n",
      "      Successfully uninstalled pip-23.2.1\n",
      "Successfully installed pip-23.3.2\n"
     ]
    }
   ],
   "source": [
    "pip install --upgrade pip"
   ]
  },
  {
   "cell_type": "code",
   "execution_count": 14,
   "id": "8fd0d3cd",
   "metadata": {},
   "outputs": [
    {
     "name": "stdout",
     "output_type": "stream",
     "text": [
      "Collecting SimpleITK\n",
      "  Downloading SimpleITK-2.3.1-cp311-cp311-win_amd64.whl.metadata (8.0 kB)\n",
      "Downloading SimpleITK-2.3.1-cp311-cp311-win_amd64.whl (18.1 MB)\n",
      "   ---------------------------------------- 0.0/18.1 MB ? eta -:--:--\n",
      "   ---------------------------------------- 0.0/18.1 MB ? eta -:--:--\n",
      "   ---------------------------------------- 0.1/18.1 MB 656.4 kB/s eta 0:00:28\n",
      "   ---------------------------------------- 0.1/18.1 MB 901.1 kB/s eta 0:00:20\n",
      "    --------------------------------------- 0.3/18.1 MB 1.5 MB/s eta 0:00:12\n",
      "    --------------------------------------- 0.4/18.1 MB 1.8 MB/s eta 0:00:11\n",
      "    --------------------------------------- 0.4/18.1 MB 1.8 MB/s eta 0:00:10\n",
      "   - -------------------------------------- 0.5/18.1 MB 1.7 MB/s eta 0:00:11\n",
      "   - -------------------------------------- 0.6/18.1 MB 1.8 MB/s eta 0:00:10\n",
      "   - -------------------------------------- 0.8/18.1 MB 2.0 MB/s eta 0:00:09\n",
      "   -- ------------------------------------- 0.9/18.1 MB 2.0 MB/s eta 0:00:09\n",
      "   -- ------------------------------------- 1.1/18.1 MB 2.2 MB/s eta 0:00:08\n",
      "   -- ------------------------------------- 1.2/18.1 MB 2.3 MB/s eta 0:00:08\n",
      "   --- ------------------------------------ 1.4/18.1 MB 2.4 MB/s eta 0:00:08\n",
      "   --- ------------------------------------ 1.5/18.1 MB 2.4 MB/s eta 0:00:08\n",
      "   --- ------------------------------------ 1.6/18.1 MB 2.3 MB/s eta 0:00:08\n",
      "   --- ------------------------------------ 1.7/18.1 MB 2.4 MB/s eta 0:00:07\n",
      "   ---- ----------------------------------- 1.8/18.1 MB 2.4 MB/s eta 0:00:07\n",
      "   ---- ----------------------------------- 2.0/18.1 MB 2.5 MB/s eta 0:00:07\n",
      "   ---- ----------------------------------- 2.2/18.1 MB 2.5 MB/s eta 0:00:07\n",
      "   ----- ---------------------------------- 2.4/18.1 MB 2.7 MB/s eta 0:00:06\n",
      "   ----- ---------------------------------- 2.6/18.1 MB 2.7 MB/s eta 0:00:06\n",
      "   ------ --------------------------------- 2.8/18.1 MB 2.8 MB/s eta 0:00:06\n",
      "   ------ --------------------------------- 2.9/18.1 MB 2.8 MB/s eta 0:00:06\n",
      "   ------ --------------------------------- 3.1/18.1 MB 2.9 MB/s eta 0:00:06\n",
      "   ------- -------------------------------- 3.4/18.1 MB 3.0 MB/s eta 0:00:05\n",
      "   ------- -------------------------------- 3.5/18.1 MB 2.9 MB/s eta 0:00:06\n",
      "   -------- ------------------------------- 3.7/18.1 MB 3.0 MB/s eta 0:00:05\n",
      "   -------- ------------------------------- 3.9/18.1 MB 3.0 MB/s eta 0:00:05\n",
      "   --------- ------------------------------ 4.1/18.1 MB 3.1 MB/s eta 0:00:05\n",
      "   --------- ------------------------------ 4.3/18.1 MB 3.1 MB/s eta 0:00:05\n",
      "   --------- ------------------------------ 4.5/18.1 MB 3.1 MB/s eta 0:00:05\n",
      "   ---------- ----------------------------- 4.7/18.1 MB 3.2 MB/s eta 0:00:05\n",
      "   ---------- ----------------------------- 4.9/18.1 MB 3.2 MB/s eta 0:00:05\n",
      "   ----------- ---------------------------- 5.1/18.1 MB 3.2 MB/s eta 0:00:05\n",
      "   ----------- ---------------------------- 5.3/18.1 MB 3.3 MB/s eta 0:00:04\n",
      "   ------------ --------------------------- 5.6/18.1 MB 3.4 MB/s eta 0:00:04\n",
      "   ------------ --------------------------- 5.7/18.1 MB 3.4 MB/s eta 0:00:04\n",
      "   ------------- -------------------------- 5.9/18.1 MB 3.4 MB/s eta 0:00:04\n",
      "   ------------- -------------------------- 6.0/18.1 MB 3.3 MB/s eta 0:00:04\n",
      "   -------------- ------------------------- 6.3/18.1 MB 3.4 MB/s eta 0:00:04\n",
      "   -------------- ------------------------- 6.5/18.1 MB 3.4 MB/s eta 0:00:04\n",
      "   -------------- ------------------------- 6.6/18.1 MB 3.4 MB/s eta 0:00:04\n",
      "   --------------- ------------------------ 6.8/18.1 MB 3.4 MB/s eta 0:00:04\n",
      "   --------------- ------------------------ 7.0/18.1 MB 3.4 MB/s eta 0:00:04\n",
      "   --------------- ------------------------ 7.2/18.1 MB 3.4 MB/s eta 0:00:04\n",
      "   ---------------- ----------------------- 7.4/18.1 MB 3.5 MB/s eta 0:00:04\n",
      "   ----------------- ---------------------- 7.7/18.1 MB 3.6 MB/s eta 0:00:03\n",
      "   ----------------- ---------------------- 7.9/18.1 MB 3.6 MB/s eta 0:00:03\n",
      "   ------------------ --------------------- 8.2/18.1 MB 3.6 MB/s eta 0:00:03\n",
      "   ------------------ --------------------- 8.4/18.1 MB 3.6 MB/s eta 0:00:03\n",
      "   ------------------- -------------------- 8.6/18.1 MB 3.6 MB/s eta 0:00:03\n",
      "   ------------------- -------------------- 8.8/18.1 MB 3.7 MB/s eta 0:00:03\n",
      "   ------------------- -------------------- 9.0/18.1 MB 3.7 MB/s eta 0:00:03\n",
      "   -------------------- ------------------- 9.2/18.1 MB 3.7 MB/s eta 0:00:03\n",
      "   -------------------- ------------------- 9.4/18.1 MB 3.7 MB/s eta 0:00:03\n",
      "   --------------------- ------------------ 9.5/18.1 MB 3.7 MB/s eta 0:00:03\n",
      "   --------------------- ------------------ 9.6/18.1 MB 3.6 MB/s eta 0:00:03\n",
      "   --------------------- ------------------ 9.8/18.1 MB 3.7 MB/s eta 0:00:03\n",
      "   ---------------------- ----------------- 10.0/18.1 MB 3.7 MB/s eta 0:00:03\n",
      "   ---------------------- ----------------- 10.3/18.1 MB 3.8 MB/s eta 0:00:03\n",
      "   ----------------------- ---------------- 10.4/18.1 MB 3.8 MB/s eta 0:00:03\n",
      "   ----------------------- ---------------- 10.7/18.1 MB 4.0 MB/s eta 0:00:02\n",
      "   ----------------------- ---------------- 10.8/18.1 MB 4.0 MB/s eta 0:00:02\n",
      "   ------------------------ --------------- 11.0/18.1 MB 4.0 MB/s eta 0:00:02\n",
      "   ------------------------ --------------- 11.3/18.1 MB 4.1 MB/s eta 0:00:02\n",
      "   ------------------------- -------------- 11.5/18.1 MB 4.1 MB/s eta 0:00:02\n",
      "   ------------------------- -------------- 11.7/18.1 MB 4.2 MB/s eta 0:00:02\n",
      "   -------------------------- ------------- 11.9/18.1 MB 4.2 MB/s eta 0:00:02\n",
      "   -------------------------- ------------- 12.2/18.1 MB 4.3 MB/s eta 0:00:02\n",
      "   --------------------------- ------------ 12.4/18.1 MB 4.3 MB/s eta 0:00:02\n",
      "   --------------------------- ------------ 12.6/18.1 MB 4.3 MB/s eta 0:00:02\n",
      "   ---------------------------- ----------- 12.8/18.1 MB 4.3 MB/s eta 0:00:02\n",
      "   ---------------------------- ----------- 13.1/18.1 MB 4.3 MB/s eta 0:00:02\n",
      "   ----------------------------- ---------- 13.3/18.1 MB 4.4 MB/s eta 0:00:02\n",
      "   ----------------------------- ---------- 13.4/18.1 MB 4.3 MB/s eta 0:00:02\n",
      "   ------------------------------ --------- 13.6/18.1 MB 4.4 MB/s eta 0:00:02\n",
      "   ------------------------------ --------- 13.9/18.1 MB 4.4 MB/s eta 0:00:01\n",
      "   ------------------------------- -------- 14.1/18.1 MB 4.4 MB/s eta 0:00:01\n",
      "   ------------------------------- -------- 14.3/18.1 MB 4.4 MB/s eta 0:00:01\n",
      "   -------------------------------- ------- 14.5/18.1 MB 4.4 MB/s eta 0:00:01\n",
      "   -------------------------------- ------- 14.7/18.1 MB 4.4 MB/s eta 0:00:01\n",
      "   --------------------------------- ------ 14.9/18.1 MB 4.4 MB/s eta 0:00:01\n",
      "   --------------------------------- ------ 15.1/18.1 MB 4.3 MB/s eta 0:00:01\n",
      "   --------------------------------- ------ 15.3/18.1 MB 4.4 MB/s eta 0:00:01\n",
      "   ---------------------------------- ----- 15.5/18.1 MB 4.4 MB/s eta 0:00:01\n",
      "   ---------------------------------- ----- 15.6/18.1 MB 4.4 MB/s eta 0:00:01\n",
      "   ----------------------------------- ---- 15.9/18.1 MB 4.4 MB/s eta 0:00:01\n",
      "   ----------------------------------- ---- 16.1/18.1 MB 4.4 MB/s eta 0:00:01\n",
      "   ------------------------------------ --- 16.3/18.1 MB 4.5 MB/s eta 0:00:01\n",
      "   ------------------------------------ --- 16.4/18.1 MB 4.3 MB/s eta 0:00:01\n",
      "   ------------------------------------ --- 16.7/18.1 MB 4.4 MB/s eta 0:00:01\n",
      "   ------------------------------------- -- 16.9/18.1 MB 4.4 MB/s eta 0:00:01\n",
      "   ------------------------------------- -- 17.1/18.1 MB 4.4 MB/s eta 0:00:01\n",
      "   -------------------------------------- - 17.3/18.1 MB 4.4 MB/s eta 0:00:01\n",
      "   -------------------------------------- - 17.5/18.1 MB 4.5 MB/s eta 0:00:01\n",
      "   ---------------------------------------  17.8/18.1 MB 4.5 MB/s eta 0:00:01\n",
      "   ---------------------------------------  17.9/18.1 MB 4.4 MB/s eta 0:00:01\n",
      "   ---------------------------------------  18.1/18.1 MB 4.4 MB/s eta 0:00:01\n",
      "   ---------------------------------------- 18.1/18.1 MB 4.3 MB/s eta 0:00:00\n",
      "Installing collected packages: SimpleITK\n",
      "Successfully installed SimpleITK-2.3.1\n",
      "Requirement already satisfied: numpy in c:\\users\\jor14\\anaconda3\\lib\\site-packages (1.24.3)\n"
     ]
    }
   ],
   "source": [
    "!pip install SimpleITK\n",
    "!pip install numpy"
   ]
  },
  {
   "cell_type": "code",
   "execution_count": 4,
   "id": "3caafe47",
   "metadata": {},
   "outputs": [
    {
     "name": "stdout",
     "output_type": "stream",
     "text": [
      "Collecting package metadata (current_repodata.json): ...working... done\n",
      "Solving environment: ...working... unsuccessful initial attempt using frozen solve. Retrying with flexible solve.\n",
      "Collecting package metadata (repodata.json): ...working... done\n",
      "Solving environment: ...working... unsuccessful initial attempt using frozen solve. Retrying with flexible solve.\n"
     ]
    },
    {
     "name": "stderr",
     "output_type": "stream",
     "text": [
      "\n",
      "PackagesNotFoundError: The following packages are not available from current channels:\n",
      "\n",
      "  - pyradiomics\n",
      "\n",
      "Current channels:\n",
      "\n",
      "  - https://conda.anaconda.org/conda-forge/win-64\n",
      "  - https://conda.anaconda.org/conda-forge/noarch\n",
      "  - https://repo.anaconda.com/pkgs/main/win-64\n",
      "  - https://repo.anaconda.com/pkgs/main/noarch\n",
      "  - https://repo.anaconda.com/pkgs/r/win-64\n",
      "  - https://repo.anaconda.com/pkgs/r/noarch\n",
      "  - https://repo.anaconda.com/pkgs/msys2/win-64\n",
      "  - https://repo.anaconda.com/pkgs/msys2/noarch\n",
      "\n",
      "To search for alternate channels that may provide the conda package you're\n",
      "looking for, navigate to\n",
      "\n",
      "    https://anaconda.org\n",
      "\n",
      "and use the search bar at the top of the page.\n",
      "\n",
      "\n"
     ]
    }
   ],
   "source": [
    "!conda install -c conda-forge pyradiomics"
   ]
  },
  {
   "cell_type": "code",
   "execution_count": 5,
   "id": "35045866",
   "metadata": {},
   "outputs": [
    {
     "name": "stdout",
     "output_type": "stream",
     "text": [
      "Collecting package metadata (current_repodata.json): ...working... done\n",
      "Solving environment: ...working... unsuccessful initial attempt using frozen solve. Retrying with flexible solve.\n",
      "Solving environment: ...working... unsuccessful attempt using repodata from current_repodata.json, retrying with next repodata source.\n",
      "Collecting package metadata (repodata.json): ...working... done\n",
      "Solving environment: ...working... unsuccessful initial attempt using frozen solve. Retrying with flexible solve.\n",
      "Solving environment: ...working... \n",
      "Found conflicts! Looking for incompatible packages.\n",
      "This can take several minutes.  Press CTRL-C to abort.\n",
      "failed\n",
      "\n",
      "Note: you may need to restart the kernel to use updated packages.\n"
     ]
    },
    {
     "name": "stderr",
     "output_type": "stream",
     "text": [
      "\n",
      "Building graph of deps:   0%|          | 0/4 [00:00<?, ?it/s]\n",
      "Examining @/win-64::__archspec==1=x86_64:   0%|          | 0/4 [00:00<?, ?it/s]\n",
      "Examining python=3.11:  25%|##5       | 1/4 [00:00<?, ?it/s]                   \n",
      "Examining radiomics::pyradiomics:  50%|#####     | 2/4 [00:00<00:00, 28.22it/s]\n",
      "Examining @/win-64::__win==0=0:  75%|#######5  | 3/4 [00:02<00:00,  1.31it/s]  \n",
      "Examining @/win-64::__win==0=0: 100%|##########| 4/4 [00:02<00:00,  1.75it/s]\n",
      "                                                                             \n",
      "\n",
      "Determining conflicts:   0%|          | 0/4 [00:00<?, ?it/s]\n",
      "Examining conflict for python pyradiomics:   0%|          | 0/4 [00:00<?, ?it/s]\n",
      "                                                                                \n",
      "\n",
      "UnsatisfiableError: The following specifications were found\n",
      "to be incompatible with the existing python installation in your environment:\n",
      "\n",
      "Specifications:\n",
      "\n",
      "  - radiomics::pyradiomics -> python[version='>=2.7,<2.8.0a0|>=3.7,<3.8.0a0|>=3.8,<3.9.0a0|>=3.9,<3.10.0a0|>=3.6,<3.7.0a0|>=3.5,<3.6.0a0|>=3.4,<3.5.0a0']\n",
      "\n",
      "Your python: python=3.11\n",
      "\n",
      "If python is on the left-most side of the chain, that's the version you've asked for.\n",
      "When python appears to the right, that indicates that the thing on the left is somehow\n",
      "not available for the python version you are constrained to. Note that conda will not\n",
      "change your python version to a different minor version unless you explicitly specify\n",
      "that.\n",
      "\n",
      "\n",
      "\n"
     ]
    }
   ],
   "source": [
    "conda install radiomics::pyradiomics"
   ]
  },
  {
   "cell_type": "code",
   "execution_count": null,
   "id": "86146994",
   "metadata": {},
   "outputs": [],
   "source": []
  },
  {
   "cell_type": "code",
   "execution_count": 1,
   "id": "f5f3a288",
   "metadata": {},
   "outputs": [
    {
     "ename": "ModuleNotFoundError",
     "evalue": "No module named 'radiomics'",
     "output_type": "error",
     "traceback": [
      "\u001b[1;31m---------------------------------------------------------------------------\u001b[0m",
      "\u001b[1;31mModuleNotFoundError\u001b[0m                       Traceback (most recent call last)",
      "Cell \u001b[1;32mIn[1], line 2\u001b[0m\n\u001b[0;32m      1\u001b[0m \u001b[38;5;28;01mimport\u001b[39;00m \u001b[38;5;21;01mos\u001b[39;00m\n\u001b[1;32m----> 2\u001b[0m \u001b[38;5;28;01mfrom\u001b[39;00m \u001b[38;5;21;01mradiomics\u001b[39;00m \u001b[38;5;28;01mimport\u001b[39;00m featureextractor\n",
      "\u001b[1;31mModuleNotFoundError\u001b[0m: No module named 'radiomics'"
     ]
    }
   ],
   "source": [
    "import os\n",
    "from radiomics import featureextractor"
   ]
  },
  {
   "cell_type": "code",
   "execution_count": 3,
   "id": "01dc7c68",
   "metadata": {},
   "outputs": [],
   "source": [
    "imagePath = os.path.abspath('C:/Users/jor14/OneDrive/Escritorio/Radiotractats')"
   ]
  },
  {
   "cell_type": "code",
   "execution_count": 4,
   "id": "918bd3c3",
   "metadata": {},
   "outputs": [
    {
     "ename": "ModuleNotFoundError",
     "evalue": "No module named 'radiomics'",
     "output_type": "error",
     "traceback": [
      "\u001b[1;31m---------------------------------------------------------------------------\u001b[0m",
      "\u001b[1;31mModuleNotFoundError\u001b[0m                       Traceback (most recent call last)",
      "Cell \u001b[1;32mIn[4], line 1\u001b[0m\n\u001b[1;32m----> 1\u001b[0m \u001b[38;5;28;01mfrom\u001b[39;00m \u001b[38;5;21;01mradiomics\u001b[39;00m \u001b[38;5;28;01mimport\u001b[39;00m featureextractor\n\u001b[0;32m      3\u001b[0m \u001b[38;5;66;03m# Configurar el extractor de características\u001b[39;00m\n\u001b[0;32m      4\u001b[0m params \u001b[38;5;241m=\u001b[39m {\u001b[38;5;124m\"\u001b[39m\u001b[38;5;124mbinWidth\u001b[39m\u001b[38;5;124m\"\u001b[39m: \u001b[38;5;241m25\u001b[39m}\n",
      "\u001b[1;31mModuleNotFoundError\u001b[0m: No module named 'radiomics'"
     ]
    }
   ],
   "source": [
    "from radiomics import featureextractor\n",
    "\n",
    "# Configurar el extractor de características\n",
    "params = {\"binWidth\": 25}\n",
    "extractor = featureextractor.RadiomicsFeatureExtractor(**params)\n",
    "\n",
    "# Calcular características radiómicas para una imagen y su ROI\n",
    "result = extractor.execute(imagePath, maskPath)\n",
    "\n",
    "# Imprimir las características calculadas\n",
    "for key, value in result.items():\n",
    "    print(f\"{key}: {value}\")\n"
   ]
  },
  {
   "cell_type": "code",
   "execution_count": null,
   "id": "3e9cd604",
   "metadata": {},
   "outputs": [],
   "source": []
  }
 ],
 "metadata": {
  "kernelspec": {
   "display_name": "Python 3 (ipykernel)",
   "language": "python",
   "name": "python3"
  },
  "language_info": {
   "codemirror_mode": {
    "name": "ipython",
    "version": 3
   },
   "file_extension": ".py",
   "mimetype": "text/x-python",
   "name": "python",
   "nbconvert_exporter": "python",
   "pygments_lexer": "ipython3",
   "version": "3.11.5"
  }
 },
 "nbformat": 4,
 "nbformat_minor": 5
}
