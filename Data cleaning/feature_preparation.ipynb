{
 "cells": [
  {
   "cell_type": "code",
   "execution_count": 1,
   "metadata": {},
   "outputs": [],
   "source": [
    "import pandas as pd\n",
    "import numpy as np\n",
    "\n",
    "import warnings\n",
    "warnings.filterwarnings(\"ignore\")\n",
    "\n",
    "from sklearn.experimental import enable_iterative_imputer\n",
    "from sklearn.impute import IterativeImputer"
   ]
  },
  {
   "cell_type": "markdown",
   "metadata": {},
   "source": [
    "ONLY METABOLOMIC FEATURES"
   ]
  },
  {
   "cell_type": "code",
   "execution_count": 19,
   "metadata": {},
   "outputs": [
    {
     "name": "stdout",
     "output_type": "stream",
     "text": [
      "         IL6  Ferritin    PCR    LDH    CD4    CD8   DimerD  \\\n",
      "0  44.000000     534.5  14.26  522.0  167.0   71.0   1680.0   \n",
      "1  28.338293    8836.0  19.97  713.0  122.0   96.0  11320.0   \n",
      "2   6.440000     449.0   6.44  379.0  351.0  281.0    280.0   \n",
      "3   7.000000     345.0   6.34  388.0  244.0  117.0    840.0   \n",
      "4   2.000000     394.6   4.61  237.0  189.0   87.0    740.0   \n",
      "\n",
      "   Viral_load_baseline  RNA_total_concentration  Glucose  Creatinin    GOT  \\\n",
      "0             0.613046                   479.70    128.0       2.59   44.0   \n",
      "1             2.468876                   358.05    127.0       0.74  137.0   \n",
      "2             1.208080                   366.30    116.0       1.18   28.0   \n",
      "3             1.654463                   348.00    118.0       0.80   29.0   \n",
      "4             1.055744                   351.20    180.0       1.95   21.0   \n",
      "\n",
      "    GPT  Leukocytes  Lymphocytes  Platelets    ID  Result  \n",
      "0  18.0      7210.0        360.0   196000.0   302       0  \n",
      "1  97.0      5620.0        370.0   128000.0   535       0  \n",
      "2   6.0      4170.0        970.0   201000.0  2896       1  \n",
      "3  12.0      4210.0        670.0   253000.0  4602       1  \n",
      "4  16.0      4660.0        590.0   254000.0  9432       1  \n",
      "Archivos 'metabolomic' combinados con éxito.\n"
     ]
    }
   ],
   "source": [
    "dfmetabolomics = pd.read_excel('C:/Users/jor14/Desktop/Metabolomic Data/metabolomic_features_id_SINO.xlsx')\n",
    "\n",
    "# Separar la columna 'ID'\n",
    "ids = dfmetabolomics['ID']  # Guardar los IDs por separado\n",
    "dfmetabolomics_SIN_ID = dfmetabolomics.drop(columns=['ID'])\n",
    "\n",
    "# Aplicar la imputación\n",
    "imp_mean = IterativeImputer(random_state=0)\n",
    "data = imp_mean.fit_transform(dfmetabolomics_SIN_ID)\n",
    "df_combined_m_no_id_imputed = pd.DataFrame(data, columns=dfmetabolomics_SIN_ID.columns)\n",
    "\n",
    "# Añadir de nuevo la columna 'ID' al DataFrame imputado\n",
    "df_combined_m_imputed = df_combined_m_no_id_imputed.copy()\n",
    "df_combined_m_imputed['ID'] = ids.values\n",
    "\n",
    "df_combined_m_imputed.to_excel('C:/Users/jor14/Desktop/Metabolomic Data/metabolomic_nulls.xlsx', index=False)\n",
    "\n",
    "dfresult = pd.read_excel('C:/Users/jor14/Desktop/Metabolomic Data/result_excel.xlsx')\n",
    "df_combined_m_imputed = pd.merge(df_combined_m_imputed, dfresult, on='ID', how='outer')\n",
    "\n",
    "# Mostrar las primeras filas del DataFrame imputado\n",
    "print(df_combined_m_imputed.head())\n",
    "# Guardar el resultado en un nuevo archivo Excel\n",
    "df_combined_m_imputed.to_excel('C:/Users/jor14/Desktop/Metabolomic Data/metabolomic_nulls_NO.xlsx', index=False)\n",
    "\n",
    "# Eliminar la columna específica\n",
    "columna_a_eliminar = 'ID'  # Reemplaza con el nombre de la columna que deseas eliminar\n",
    "if columna_a_eliminar in df_combined_m_imputed.columns:\n",
    "    dfmetabolomics = df_combined_m_imputed.drop(columns=[columna_a_eliminar])\n",
    "\n",
    "\n",
    "# Guardar el resultado en un nuevo archivo Excel\n",
    "dfmetabolomics.to_excel('C:/Users/jor14/Desktop/Metabolomic Data/metabolomic.xlsx', index=False)\n",
    "\n",
    "print(\"Archivos 'metabolomic' combinados con éxito.\")"
   ]
  },
  {
   "cell_type": "markdown",
   "metadata": {},
   "source": [
    "ONLY CLINICAL FEATURES"
   ]
  },
  {
   "cell_type": "code",
   "execution_count": 7,
   "metadata": {},
   "outputs": [
    {
     "name": "stdout",
     "output_type": "stream",
     "text": [
      "   Age  Sex  Neurological_diseases  Cardiovascular_diseases  \\\n",
      "0   88    0                      0                        1   \n",
      "1   84    1                      1                        1   \n",
      "2   87    1                      0                        1   \n",
      "3   85    0                      1                        1   \n",
      "4   85    1                      1                        1   \n",
      "\n",
      "   Respiratory_diseases  Other_diseases  Days_symptoms  Days_hospitalization  \\\n",
      "0                     0               1              7                    13   \n",
      "1                     1               1              7                    11   \n",
      "2                     0               1              4                    11   \n",
      "3                     0               1              4                    43   \n",
      "4                     0               1              4                    27   \n",
      "\n",
      "   SAFI  PAFI  ...  Barthel_scale_1  Barthel_scale_2  Barthel_scale_3  \\\n",
      "0   182   332  ...                0                0                1   \n",
      "1    92   274  ...                0                0                0   \n",
      "2   350   332  ...                0                0                0   \n",
      "3   269   244  ...                0                0                1   \n",
      "4   325   218  ...                0                0                0   \n",
      "\n",
      "   Barthel_scale_4  Barthel_scale_5  Pulmonary_affectation_1  \\\n",
      "0                0                0                        0   \n",
      "1                1                0                        0   \n",
      "2                1                0                        0   \n",
      "3                0                0                        0   \n",
      "4                0                1                        0   \n",
      "\n",
      "   Pulmonary_affectation_2  Pulmonary_affectation_3  Pulmonary_affectation_4  \\\n",
      "0                        0                        0                        1   \n",
      "1                        0                        0                        1   \n",
      "2                        0                        1                        0   \n",
      "3                        1                        0                        0   \n",
      "4                        0                        1                        0   \n",
      "\n",
      "   Result  \n",
      "0       0  \n",
      "1       0  \n",
      "2       1  \n",
      "3       1  \n",
      "4       1  \n",
      "\n",
      "[5 rows x 33 columns]\n",
      "Archivos 'clinical' combinados con éxito.\n"
     ]
    }
   ],
   "source": [
    "dfclinical = pd.read_excel('C:/Users/jor14/Desktop/Clinical Data/clinical_features_excel_id.xlsx')\n",
    "dfresult = pd.read_excel('C:/Users/jor14/Desktop/Clinical Data/result_excel.xlsx')\n",
    "\n",
    "dfclinical.rename(columns={'Gender': 'Sex'}, inplace=True)\n",
    "dfclinical.Sex=np.where(dfclinical.Sex=='MALE', 1, 0)\n",
    "\n",
    "# Separar la columna 'ID'\n",
    "ids = dfclinical['ID']  # Guardar los IDs por separado\n",
    "dfclinical_SIN_ID = dfclinical.drop(columns=['ID'])\n",
    "\n",
    "# Aplicar la imputación\n",
    "imp_mean = IterativeImputer(random_state=0)\n",
    "data = imp_mean.fit_transform(dfclinical_SIN_ID)\n",
    "df_combined_c_no_id_imputed = pd.DataFrame(data, columns=dfclinical_SIN_ID.columns)\n",
    "\n",
    "column_to_exclude = 'PO2_venous'\n",
    "# Convertir todas las columnas numéricas menos 'C' a enteros (redondeando hacia abajo)\n",
    "df_combined_c_no_id_imputed[df_combined_c_no_id_imputed.columns.difference([column_to_exclude])] = df_combined_c_no_id_imputed[df_combined_c_no_id_imputed.columns.difference([column_to_exclude])].apply(np.floor).astype(int)\n",
    "\n",
    "\n",
    "# Añadir de nuevo la columna 'ID' al DataFrame imputado\n",
    "df_combined_c_imputed = df_combined_c_no_id_imputed.copy()\n",
    "df_combined_c_imputed['ID'] = ids.values\n",
    "\n",
    "\n",
    "# Lista de columnas a transformar\n",
    "columns_to_transform = ['GDS', 'Barthel_scale', 'Pulmonary_affectation']\n",
    "\n",
    "# Crear dummies/one-hot encoding para las columnas especificadas\n",
    "df_one_hot = pd.get_dummies(df_combined_c_imputed, columns=columns_to_transform, prefix=columns_to_transform)\n",
    "\n",
    "df_one_hot.replace({False: 0, True: 1}, inplace=True)\n",
    "\n",
    "df_one_hot.to_excel('C:/Users/jor14/Desktop/Clinical Data/clinical_ID.xlsx', index=False)\n",
    "\n",
    "# Combinar los DataFrames en base a la columna 'id'\n",
    "df_combined_rc = pd.merge(df_one_hot, dfresult, on='ID', how='outer')\n",
    "\n",
    "# Mostrar las primeras filas del DataFrame imputado\n",
    "print(df_combined_rc.head())\n",
    "\n",
    "# Guardar el resultado en un nuevo archivo Excel que contendrá la columna ID para concatenar los otros DF\n",
    "df_combined_rc.to_excel('C:/Users/jor14/Desktop/Clinical Data/clinical_ID_NO.xlsx', index=False)\n",
    "\n",
    "\n",
    "# Eliminar la columna específica\n",
    "columna_a_eliminar = 'ID'  # Reemplaza con el nombre de la columna que deseas eliminar\n",
    "if columna_a_eliminar in df_combined_rc.columns:\n",
    "    df_combined_rc = df_combined_rc.drop(columns=[columna_a_eliminar])\n",
    "\n",
    "df_combined_rc.to_excel('clinical.xlsx', index=False)\n",
    "\n",
    "print(\"Archivos 'clinical' combinados con éxito.\")"
   ]
  },
  {
   "cell_type": "markdown",
   "metadata": {},
   "source": [
    "RADIOMIC, CLINICAL AND METABOLOMIC"
   ]
  },
  {
   "cell_type": "code",
   "execution_count": null,
   "metadata": {},
   "outputs": [
    {
     "name": "stdout",
     "output_type": "stream",
     "text": [
      "Archivos todos combinados con éxito.\n"
     ]
    }
   ],
   "source": [
    "# Leer los archivos Excel\n",
    "dfmetabolomics = pd.read_excel('metabolomic_ID.xlsx')\n",
    "dfclinical = pd.read_excel('clinical_ID.xlsx')\n",
    "dfradiomics = pd.read_excel('radiomic_ID.xlsx')\n",
    "\n",
    "# Combinar los DataFrames en base a la columna 'id'\n",
    "df_combined_mc = pd.merge(dfmetabolomics, dfclinical, on='ID', how='outer')\n",
    "df_combined_all = pd.merge(df_combined_mc, dfradiomics, on='ID', how='outer')\n",
    "\n",
    "# Eliminar la columna específica\n",
    "columna_a_eliminar = 'ID'  # Reemplaza con el nombre de la columna que deseas eliminar\n",
    "if columna_a_eliminar in df_combined_mc.columns:\n",
    "    df_combined_mc = df_combined_mc.drop(columns=[columna_a_eliminar])\n",
    "\n",
    "if columna_a_eliminar in df_combined_all.columns:\n",
    "    df_combined_all = df_combined_all.drop(columns=[columna_a_eliminar])\n",
    "\n",
    "# Guardar el resultado en un nuevo archivo Excel\n",
    "#df_combined_mc.to_excel('metabolomic&clinical.xlsx', index=False)\n",
    "df_combined_all.to_excel('radiomics&metabolomic&clinical.xlsx', index=False)\n",
    "\n",
    "print(\"Archivos todos combinados con éxito.\")"
   ]
  }
 ],
 "metadata": {
  "kernelspec": {
   "display_name": "base",
   "language": "python",
   "name": "python3"
  },
  "language_info": {
   "codemirror_mode": {
    "name": "ipython",
    "version": 3
   },
   "file_extension": ".py",
   "mimetype": "text/x-python",
   "name": "python",
   "nbconvert_exporter": "python",
   "pygments_lexer": "ipython3",
   "version": "3.12.4"
  }
 },
 "nbformat": 4,
 "nbformat_minor": 2
}
