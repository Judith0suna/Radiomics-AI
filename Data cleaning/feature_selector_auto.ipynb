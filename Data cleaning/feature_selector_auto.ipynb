{
 "cells": [
  {
   "cell_type": "code",
   "execution_count": 1,
   "metadata": {},
   "outputs": [
    {
     "name": "stdout",
     "output_type": "stream",
     "text": [
      "DataFrame con las características seleccionadas y la variable objetivo:\n",
      "   Result  squareroot_glszm_SmallAreaHighGrayLevelEmphasis  \\\n",
      "0       0                                      1227.559007   \n",
      "1       0                                       554.917012   \n",
      "2       1                                       650.349749   \n",
      "3       1                                       627.003244   \n",
      "4       1                                       485.390273   \n",
      "\n",
      "   wavelet-LLH_firstorder_10Percentile  lbp-3D-m2_glszm_ZoneVariance  \\\n",
      "0                          -164.143105                  1.268664e+10   \n",
      "1                          -127.546344                  1.865962e+11   \n",
      "2                          -116.581045                  6.302128e+10   \n",
      "3                          -173.184326                  2.750635e+09   \n",
      "4                           -99.970032                  0.000000e+00   \n",
      "\n",
      "   lbp-3D-m1_glszm_SizeZoneNonUniformityNormalized  Creatinin  \\\n",
      "0                                         0.333333       2.59   \n",
      "1                                         0.200000       0.74   \n",
      "2                                         0.333333       1.18   \n",
      "3                                         0.500000       0.80   \n",
      "4                                         1.000000       1.95   \n",
      "\n",
      "   lbp-3D-k_glszm_GrayLevelNonUniformityNormalized  Cardiac_frecuency  \\\n",
      "0                                         0.991311              100.0   \n",
      "1                                         0.997991              129.0   \n",
      "2                                         0.998425               78.0   \n",
      "3                                         0.998453               67.0   \n",
      "4                                         0.999360              100.0   \n",
      "\n",
      "   Pulmonary_affectation  wavelet-LLL_ngtdm_Strength  \\\n",
      "0                    4.0                    0.863318   \n",
      "1                    4.0                    0.478133   \n",
      "2                    3.0                    0.423968   \n",
      "3                    2.0                    0.537704   \n",
      "4                    3.0                    0.447594   \n",
      "\n",
      "   square_glszm_LargeAreaHighGrayLevelEmphasis  \n",
      "0                                 1.206748e+07  \n",
      "1                                 6.520334e+07  \n",
      "2                                 1.281615e+08  \n",
      "3                                 1.881477e+07  \n",
      "4                                 1.137853e+08  \n"
     ]
    }
   ],
   "source": [
    "import pandas as pd\n",
    "import pymrmr\n",
    "from sklearn.preprocessing import MinMaxScaler\n",
    "\n",
    "# Cargar los datos\n",
    "data = pd.read_excel('C:/Users/jor14/Desktop/radiomics&metabolomic&clinical.xlsx')\n",
    "\n",
    "# Supongamos que la columna 'Result' es la variable objetivo\n",
    "X = data.drop(columns=['Result'])\n",
    "y = data['Result']\n",
    "\n",
    "# Escalar las características\n",
    "scaler = MinMaxScaler()\n",
    "X_scaled = scaler.fit_transform(X)\n",
    "\n",
    "# Concatenar X escalado e y para usar en pymrmr\n",
    "data_for_mrmr = pd.concat([y, pd.DataFrame(X_scaled, columns=X.columns)], axis=1)\n",
    "\n",
    "# Seleccionar las mejores características usando mRMR\n",
    "selected_features = pymrmr.mRMR(data_for_mrmr, 'MIQ', 10)  # Seleccionar las 10 mejores características\n",
    "\n",
    "# Añadir la variable objetivo a la lista de características seleccionadas\n",
    "selected_features_with_target = ['Result'] + selected_features\n",
    "\n",
    "# Crear un nuevo DataFrame con las características seleccionadas y la variable objetivo\n",
    "selected_features_df = data[selected_features_with_target]\n",
    "\n",
    "# Guardar el DataFrame en un archivo Excel\n",
    "selected_features_df.to_excel('C:/Users/jor14/Desktop/ALLpreprocessed_auto.xlsx', index=False)\n",
    "\n",
    "# Mostrar el DataFrame resultante\n",
    "print(\"DataFrame con las características seleccionadas y la variable objetivo:\")\n",
    "print(selected_features_df.head())\n"
   ]
  },
  {
   "cell_type": "code",
   "execution_count": null,
   "metadata": {},
   "outputs": [],
   "source": []
  },
  {
   "cell_type": "code",
   "execution_count": null,
   "metadata": {},
   "outputs": [],
   "source": []
  }
 ],
 "metadata": {
  "kernelspec": {
   "display_name": "base",
   "language": "python",
   "name": "python3"
  },
  "language_info": {
   "codemirror_mode": {
    "name": "ipython",
    "version": 3
   },
   "file_extension": ".py",
   "mimetype": "text/x-python",
   "name": "python",
   "nbconvert_exporter": "python",
   "pygments_lexer": "ipython3",
   "version": "3.12.4"
  }
 },
 "nbformat": 4,
 "nbformat_minor": 2
}
