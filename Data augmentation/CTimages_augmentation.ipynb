{
 "cells": [
  {
   "cell_type": "code",
   "execution_count": 70,
   "metadata": {},
   "outputs": [],
   "source": [
    "import nibabel as nib\n",
    "import numpy as np\n",
    "import matplotlib.pyplot as plt\n",
    "import os\n",
    "import shutil\n",
    "import torch\n",
    "\n",
    "from skimage import exposure"
   ]
  },
  {
   "cell_type": "code",
   "execution_count": 71,
   "metadata": {},
   "outputs": [],
   "source": [
    "# Directorio que contiene las subcarpetas numeradas\n",
    "base_dir = 'C:/Users/jor14/Desktop/Not_treatment_worked_Nifti/'  # Cambia esto a la ruta de tu directorio base"
   ]
  },
  {
   "cell_type": "code",
   "execution_count": 72,
   "metadata": {},
   "outputs": [],
   "source": [
    "\n",
    "# Crear una carpeta para guardar las imágenes y máscaras sintéticas\n",
    "output_dir = 'synthetic_images'\n",
    "if os.path.exists(output_dir):\n",
    "    shutil.rmtree(output_dir)  # Elimina el directorio existente si ya existe\n",
    "os.makedirs(output_dir)"
   ]
  },
  {
   "cell_type": "code",
   "execution_count": 73,
   "metadata": {},
   "outputs": [],
   "source": [
    "# Función para aplicar ruido aleatorio\n",
    "def add_random_noise(image_np, noise_level=0.1):\n",
    "    noise = np.random.normal(loc=0, scale=noise_level, size=image_np.shape)\n",
    "    return image_np + noise"
   ]
  },
  {
   "cell_type": "code",
   "execution_count": 74,
   "metadata": {},
   "outputs": [],
   "source": [
    "# Función para ajustar brillo y contraste\n",
    "def adjust_brightness_contrast(image_np, brightness_factor=1.0, contrast_factor=1.0):\n",
    "    # Ajuste de brillo\n",
    "    image_np = image_np * brightness_factor\n",
    "    # Ajuste de contraste\n",
    "    p2, p98 = np.percentile(image_np, (2, 98))\n",
    "    image_np = exposure.rescale_intensity(image_np, in_range=(p2, p98)) * contrast_factor\n",
    "    return np.clip(image_np, 0, 255)"
   ]
  },
  {
   "cell_type": "code",
   "execution_count": 75,
   "metadata": {},
   "outputs": [],
   "source": [
    "# Función para aplicar flipping (volteo) aleatorio\n",
    "def apply_random_flipping(image_np, mask_np):\n",
    "    if np.random.rand() > 0.5:\n",
    "        image_np = np.flip(image_np, axis=0)\n",
    "        mask_np = np.flip(mask_np, axis=0)\n",
    "    if np.random.rand() < 0.5:\n",
    "        image_np = np.flip(image_np, axis=1)\n",
    "        mask_np = np.flip(mask_np, axis=1)\n",
    "    return image_np, mask_np"
   ]
  },
  {
   "cell_type": "code",
   "execution_count": 76,
   "metadata": {},
   "outputs": [],
   "source": [
    "# Función para generar datos sintéticos\n",
    "def generate_synthetic_image(image_np, mask_np):\n",
    "    # Añadir ruido aleatorio\n",
    "    noisy_image = add_random_noise(image_np)\n",
    "    \n",
    "    # Ajustar brillo y contraste\n",
    "    brightness_factor = np.random.uniform(0.8, 1.2)  # Factor de brillo aleatorio\n",
    "    contrast_factor = np.random.uniform(0.8, 1.2)    # Factor de contraste aleatorio\n",
    "    final_image = adjust_brightness_contrast(noisy_image, brightness_factor, contrast_factor)\n",
    "    \n",
    "    # Aplicar flipping aleatorio\n",
    "    final_image, final_mask = apply_random_flipping(final_image, mask_np)\n",
    "    \n",
    "    return final_image, final_mask\n"
   ]
  },
  {
   "cell_type": "code",
   "execution_count": 77,
   "metadata": {},
   "outputs": [],
   "source": [
    "# Número de imágenes sintéticas a generar\n",
    "num_original_images = 16\n",
    "num_synthetic_images = 18  # Queremos generar 18 imágenes sintéticas\n",
    "\n",
    "# Almacenar las imágenes originales y sus máscaras\n",
    "original_images = []\n",
    "original_masks = []"
   ]
  },
  {
   "cell_type": "code",
   "execution_count": 78,
   "metadata": {},
   "outputs": [],
   "source": [
    "# Cargar las 16 imágenes originales y sus máscaras\n",
    "for i in range(1, 17):\n",
    "    folder_path = os.path.join(base_dir, f'{i:02d}')\n",
    "    image_path = os.path.join(folder_path, 'Image.nii')\n",
    "    mask_path = os.path.join(folder_path, 'Mask.nii')\n",
    "\n",
    "    # Cargar imagen y máscara\n",
    "    image = nib.load(image_path)\n",
    "    mask = nib.load(mask_path)\n",
    "\n",
    "    # Obtener los datos como arrays numpy\n",
    "    image_data_np = image.get_fdata()\n",
    "    mask_data_np = mask.get_fdata()\n",
    "\n",
    "    # Convertir los arrays numpy a tensores PyTorch\n",
    "    image_data_tensor = torch.from_numpy(image_data_np.astype(np.float32))\n",
    "    mask_data_tensor = torch.from_numpy(mask_data_np.astype(np.float32))\n",
    "\n",
    "    # Almacenar los tensores y las matrices afines en listas\n",
    "    original_images.append((image_data_tensor, image.affine))\n",
    "    original_masks.append((mask_data_tensor, mask.affine))\n"
   ]
  },
  {
   "cell_type": "code",
   "execution_count": 79,
   "metadata": {},
   "outputs": [],
   "source": [
    "# Generar y guardar imágenes sintéticas y sus máscaras correspondientes\n",
    "for i in range(1, num_synthetic_images + 1):\n",
    "    # Seleccionar una imagen original al azar para generar una imagen sintética\n",
    "    idx = (i - 1) % num_original_images\n",
    "    original_image_tensor, affine_image = original_images[idx]\n",
    "    original_mask_tensor, affine_mask = original_masks[idx]\n",
    "\n",
    "    # Convertir tensores a arrays numpy\n",
    "    original_image_np = original_image_tensor.numpy()\n",
    "    original_mask_np = original_mask_tensor.numpy()\n",
    "\n",
    "# Generar datos sintéticos para la imagen\n",
    "    synthetic_image_np, synthetic_mask_np = generate_synthetic_image(original_image_np, original_mask_np)\n",
    "\n",
    "    # La máscara se mantiene igual (sin transformaciones)\n",
    "   \n",
    "    # Crear subcarpeta para cada imagen sintética\n",
    "    output_subdir = os.path.join(output_dir, f'{i:02d}')\n",
    "    os.makedirs(output_subdir)\n",
    "\n",
    "    # Crear imágenes NIfTI para los datos sintéticos\n",
    "    synthetic_image = nib.Nifti1Image(synthetic_image_np, affine_image)\n",
    "    synthetic_mask = nib.Nifti1Image(synthetic_mask_np, affine_mask)\n",
    "\n",
    "    # Guardar las imágenes y máscaras sintéticas en la subcarpeta correspondiente\n",
    "    nib.save(synthetic_image, os.path.join(output_subdir, 'Image.nii'))\n",
    "    nib.save(synthetic_mask, os.path.join(output_subdir, 'Mask.nii'))"
   ]
  },
  {
   "cell_type": "code",
   "execution_count": 80,
   "metadata": {},
   "outputs": [
    {
     "data": {
      "image/png": "[encoded data removed]",
      "text/plain": [
       "<Figure size 1200x600 with 1 Axes>"
      ]
     },
     "metadata": {},
     "output_type": "display_data"
    }
   ],
   "source": [
    "# Comparar distribuciones de las imágenes originales y sintéticas\n",
    "original_sample = original_images[0][0].numpy().flatten()\n",
    "synthetic_sample = synthetic_data_np.flatten()\n",
    "\n",
    "plt.figure(figsize=(12, 6))\n",
    "plt.hist(original_sample, bins=50, alpha=0.5, label='Original')\n",
    "plt.hist(synthetic_sample, bins=50, alpha=0.5, label='Synthetic')\n",
    "plt.legend(loc='upper right')\n",
    "plt.title('Distribución de Intensidades')\n",
    "plt.xlabel('Intensidad')\n",
    "plt.ylabel('Frecuencia')\n",
    "plt.show()"
   ]
  }
 ],
 "metadata": {
  "kernelspec": {
   "display_name": "Python 3",
   "language": "python",
   "name": "python3"
  },
  "language_info": {
   "codemirror_mode": {
    "name": "ipython",
    "version": 3
   },
   "file_extension": ".py",
   "mimetype": "text/x-python",
   "name": "python",
   "nbconvert_exporter": "python",
   "pygments_lexer": "ipython3",
   "version": "3.9.19"
  }
 },
 "nbformat": 4,
 "nbformat_minor": 2
}
